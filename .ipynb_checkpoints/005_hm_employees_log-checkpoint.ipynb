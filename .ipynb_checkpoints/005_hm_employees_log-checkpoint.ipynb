{
 "cells": [
  {
   "cell_type": "code",
   "execution_count": 1,
   "metadata": {},
   "outputs": [],
   "source": [
    "#Importamos librerias\n",
    "import csv\n",
    "import pandas as pd\n"
   ]
  },
  {
   "cell_type": "code",
   "execution_count": 2,
   "metadata": {},
   "outputs": [],
   "source": [
    "# CONSTANT\n",
    "FILENAME = 'writing_csv.csv'\n",
    "#asignamos a data frame los datos delcsv\n",
    "df = pd.read_csv(FILENAME)\n",
    "#agrupamos\n",
    "df_agrupado=df.groupby(['employee_id','enter_for']).size().reset_index(name=\"count\")\n"
   ]
  },
  {
   "cell_type": "code",
   "execution_count": 3,
   "metadata": {},
   "outputs": [],
   "source": [
    "#ordenamos\n",
    "df_ordenado=df_agrupado.sort_values(['employee_id','count'],ascending=[True,False])"
   ]
  },
  {
   "cell_type": "code",
   "execution_count": 4,
   "metadata": {},
   "outputs": [],
   "source": [
    "\n",
    "#extraemos los valores unicos de empleados\n",
    "Lista_employees = list(df_ordenado[\"employee_id\"].unique())\n",
    "\n"
   ]
  },
  {
   "cell_type": "code",
   "execution_count": 5,
   "metadata": {},
   "outputs": [
    {
     "name": "stdout",
     "output_type": "stream",
     "text": [
      "for employee 1002  payment-154 bathroom-152 meeting-152 call-147 reports-147 lunch-146 suppliement-144\n",
      "for employee 1267  suppliement-160 reports-157 call-152 lunch-146 bathroom-136 meeting-133 payment-118\n",
      "for employee 2009  lunch-158 suppliement-151 bathroom-146 meeting-141 payment-139 reports-139 call-128\n",
      "for employee 3478  call-145 lunch-143 payment-142 reports-142 meeting-139 suppliement-137 bathroom-122\n",
      "for employee 5432  suppliement-161 reports-151 bathroom-150 meeting-139 call-134 payment-132 lunch-131\n",
      "for employee 8623  suppliement-170 bathroom-148 payment-142 reports-139 call-138 lunch-134 meeting-134\n",
      "for employee 9812  payment-155 lunch-146 call-134 reports-132 meeting-127 suppliement-125 bathroom-111\n",
      "for employee 9823  bathroom-154 lunch-150 call-147 reports-147 payment-143 suppliement-137 meeting-134\n",
      "for employee 9872  bathroom-160 reports-150 call-148 lunch-148 meeting-146 payment-145 suppliement-138\n",
      "for employee 92873  reports-152 lunch-151 payment-150 suppliement-146 call-144 meeting-135 bathroom-126\n"
     ]
    }
   ],
   "source": [
    "\n",
    "#recorremos la lista de empleados\n",
    "for i in Lista_employees:\n",
    "   #asignamos el valor de empleado a variable Empleado\n",
    "   Empleado=i\n",
    "   #Inicializamos la variable cadenaInter que me guarda la construccion de la cadena\n",
    "   cadenaInter=\"\"\n",
    "   #recorremos la tuplas\n",
    "   for row in df_ordenado.itertuples():\n",
    "      #print(row.employee_id)\n",
    "      #print(Empleado)\n",
    "      #construimos la cadena paralaparte del empleado\n",
    "      Cadena_Empleado=f'for employee {Empleado}'\n",
    "      #comparamos el empleado con la tupla 1 a 1\n",
    "      if row.employee_id == Empleado:\n",
    "         #armamos la cadena final\n",
    "         cadenaInter=(f'{cadenaInter} {row.enter_for}-{row.count}')\n",
    "   #imprimimos\n",
    "   print(Cadena_Empleado,cadenaInter)"
   ]
  },
  {
   "cell_type": "code",
   "execution_count": null,
   "metadata": {},
   "outputs": [],
   "source": []
  }
 ],
 "metadata": {
  "kernelspec": {
   "display_name": "Python 3",
   "language": "python",
   "name": "python3"
  },
  "language_info": {
   "codemirror_mode": {
    "name": "ipython",
    "version": 3
   },
   "file_extension": ".py",
   "mimetype": "text/x-python",
   "name": "python",
   "nbconvert_exporter": "python",
   "pygments_lexer": "ipython3",
   "version": "3.8.5"
  }
 },
 "nbformat": 4,
 "nbformat_minor": 4
}
